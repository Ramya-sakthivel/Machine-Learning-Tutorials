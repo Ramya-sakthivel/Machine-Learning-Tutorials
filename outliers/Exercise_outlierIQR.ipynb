{
 "cells": [
  {
   "cell_type": "markdown",
   "id": "939ab07b-8961-4938-a350-712a023676c8",
   "metadata": {},
   "source": [
    "## Exercise on treating outliers using Inter Quartile Range(IQR)"
   ]
  },
  {
   "cell_type": "code",
   "execution_count": 1,
   "id": "8fa6b913-d9bf-40ff-b60f-845f8e2e8852",
   "metadata": {},
   "outputs": [
    {
     "data": {
      "text/plain": [
       "(10000, 3)"
      ]
     },
     "execution_count": 1,
     "metadata": {},
     "output_type": "execute_result"
    }
   ],
   "source": [
    "import pandas as pd\n",
    "df=pd.read_csv(\"weight-height.csv\")\n",
    "df.shape"
   ]
  },
  {
   "cell_type": "code",
   "execution_count": 2,
   "id": "89a53067-5e8c-4cf6-8f38-a5e8bdbd7d44",
   "metadata": {},
   "outputs": [
    {
     "data": {
      "text/html": [
       "<div>\n",
       "<style scoped>\n",
       "    .dataframe tbody tr th:only-of-type {\n",
       "        vertical-align: middle;\n",
       "    }\n",
       "\n",
       "    .dataframe tbody tr th {\n",
       "        vertical-align: top;\n",
       "    }\n",
       "\n",
       "    .dataframe thead th {\n",
       "        text-align: right;\n",
       "    }\n",
       "</style>\n",
       "<table border=\"1\" class=\"dataframe\">\n",
       "  <thead>\n",
       "    <tr style=\"text-align: right;\">\n",
       "      <th></th>\n",
       "      <th>Height</th>\n",
       "      <th>Weight</th>\n",
       "    </tr>\n",
       "  </thead>\n",
       "  <tbody>\n",
       "    <tr>\n",
       "      <th>count</th>\n",
       "      <td>10000.000000</td>\n",
       "      <td>10000.000000</td>\n",
       "    </tr>\n",
       "    <tr>\n",
       "      <th>mean</th>\n",
       "      <td>66.367560</td>\n",
       "      <td>161.440357</td>\n",
       "    </tr>\n",
       "    <tr>\n",
       "      <th>std</th>\n",
       "      <td>3.847528</td>\n",
       "      <td>32.108439</td>\n",
       "    </tr>\n",
       "    <tr>\n",
       "      <th>min</th>\n",
       "      <td>54.263133</td>\n",
       "      <td>64.700127</td>\n",
       "    </tr>\n",
       "    <tr>\n",
       "      <th>25%</th>\n",
       "      <td>63.505620</td>\n",
       "      <td>135.818051</td>\n",
       "    </tr>\n",
       "    <tr>\n",
       "      <th>50%</th>\n",
       "      <td>66.318070</td>\n",
       "      <td>161.212928</td>\n",
       "    </tr>\n",
       "    <tr>\n",
       "      <th>75%</th>\n",
       "      <td>69.174262</td>\n",
       "      <td>187.169525</td>\n",
       "    </tr>\n",
       "    <tr>\n",
       "      <th>max</th>\n",
       "      <td>78.998742</td>\n",
       "      <td>269.989699</td>\n",
       "    </tr>\n",
       "  </tbody>\n",
       "</table>\n",
       "</div>"
      ],
      "text/plain": [
       "             Height        Weight\n",
       "count  10000.000000  10000.000000\n",
       "mean      66.367560    161.440357\n",
       "std        3.847528     32.108439\n",
       "min       54.263133     64.700127\n",
       "25%       63.505620    135.818051\n",
       "50%       66.318070    161.212928\n",
       "75%       69.174262    187.169525\n",
       "max       78.998742    269.989699"
      ]
     },
     "execution_count": 2,
     "metadata": {},
     "output_type": "execute_result"
    }
   ],
   "source": [
    "df.describe()"
   ]
  },
  {
   "cell_type": "code",
   "execution_count": 3,
   "id": "131befea-5edb-47ef-8e89-1dbb5e6e14fa",
   "metadata": {},
   "outputs": [
    {
     "data": {
      "text/html": [
       "<div>\n",
       "<style scoped>\n",
       "    .dataframe tbody tr th:only-of-type {\n",
       "        vertical-align: middle;\n",
       "    }\n",
       "\n",
       "    .dataframe tbody tr th {\n",
       "        vertical-align: top;\n",
       "    }\n",
       "\n",
       "    .dataframe thead th {\n",
       "        text-align: right;\n",
       "    }\n",
       "</style>\n",
       "<table border=\"1\" class=\"dataframe\">\n",
       "  <thead>\n",
       "    <tr style=\"text-align: right;\">\n",
       "      <th></th>\n",
       "      <th>Gender</th>\n",
       "      <th>Height</th>\n",
       "      <th>Weight</th>\n",
       "    </tr>\n",
       "  </thead>\n",
       "  <tbody>\n",
       "    <tr>\n",
       "      <th>0</th>\n",
       "      <td>Male</td>\n",
       "      <td>73.847017</td>\n",
       "      <td>241.893563</td>\n",
       "    </tr>\n",
       "    <tr>\n",
       "      <th>1</th>\n",
       "      <td>Male</td>\n",
       "      <td>68.781904</td>\n",
       "      <td>162.310473</td>\n",
       "    </tr>\n",
       "    <tr>\n",
       "      <th>2</th>\n",
       "      <td>Male</td>\n",
       "      <td>74.110105</td>\n",
       "      <td>212.740856</td>\n",
       "    </tr>\n",
       "    <tr>\n",
       "      <th>3</th>\n",
       "      <td>Male</td>\n",
       "      <td>71.730978</td>\n",
       "      <td>220.042470</td>\n",
       "    </tr>\n",
       "    <tr>\n",
       "      <th>4</th>\n",
       "      <td>Male</td>\n",
       "      <td>69.881796</td>\n",
       "      <td>206.349801</td>\n",
       "    </tr>\n",
       "  </tbody>\n",
       "</table>\n",
       "</div>"
      ],
      "text/plain": [
       "  Gender     Height      Weight\n",
       "0   Male  73.847017  241.893563\n",
       "1   Male  68.781904  162.310473\n",
       "2   Male  74.110105  212.740856\n",
       "3   Male  71.730978  220.042470\n",
       "4   Male  69.881796  206.349801"
      ]
     },
     "execution_count": 3,
     "metadata": {},
     "output_type": "execute_result"
    }
   ],
   "source": [
    "df.head(5)"
   ]
  },
  {
   "cell_type": "markdown",
   "id": "357c6e39-6f00-4d85-bb84-ba12c2e14a05",
   "metadata": {},
   "source": [
    "## Calcualting IQR for the features weight and height"
   ]
  },
  {
   "cell_type": "code",
   "execution_count": 44,
   "id": "eecd99f1-f23b-4f7b-bd4a-f01c86526e62",
   "metadata": {},
   "outputs": [],
   "source": [
    "Q1_height=df.Height.quantile(0.25)\n",
    "Q3_height = df.Height.quantile(0.75)\n",
    "IQR_height = Q3_height-Q1_height\n",
    "\n"
   ]
  },
  {
   "cell_type": "code",
   "execution_count": 45,
   "id": "01119dcd-ae66-41c2-b236-177042d41ece",
   "metadata": {},
   "outputs": [
    {
     "name": "stdout",
     "output_type": "stream",
     "text": [
      "63.505620481218955 69.1742617268347 5.668641245615746\n"
     ]
    }
   ],
   "source": [
    "print(Q1_height,Q3_height,IQR_height)"
   ]
  },
  {
   "cell_type": "code",
   "execution_count": 46,
   "id": "12a2c960-e77f-4c05-90dd-00c54c56edc0",
   "metadata": {},
   "outputs": [
    {
     "name": "stdout",
     "output_type": "stream",
     "text": [
      "77.67722359525831 55.00265861279534\n"
     ]
    }
   ],
   "source": [
    "upper_limit_height= Q3_height+(1.5* IQR_height)\n",
    "lower_limit_height= Q1_height-(1.5*IQR_height)\n",
    "print(upper_limit_height,lower_limit_height)"
   ]
  },
  {
   "cell_type": "code",
   "execution_count": 47,
   "id": "d0729e8a-21d0-4a35-b4f0-db4c24758ce3",
   "metadata": {},
   "outputs": [],
   "source": [
    "Q1_weight=df.Weight.quantile(0.25)\n",
    "Q3_weight=df.Weight.quantile(0.75)\n",
    "IQR_weight = Q3_weight-Q1_weight"
   ]
  },
  {
   "cell_type": "code",
   "execution_count": 48,
   "id": "cfb060cd-92cb-4be3-b23a-d70f57f0ccd0",
   "metadata": {},
   "outputs": [
    {
     "name": "stdout",
     "output_type": "stream",
     "text": [
      "135.8180513055015 187.16952486868348 51.35147356318197\n"
     ]
    }
   ],
   "source": [
    "print(Q1_weight,Q3_weight,IQR_weight)"
   ]
  },
  {
   "cell_type": "code",
   "execution_count": 54,
   "id": "2c5de5d0-da20-4e14-bb4c-8984dc08c0aa",
   "metadata": {},
   "outputs": [
    {
     "name": "stdout",
     "output_type": "stream",
     "text": [
      "264.19673521345646 58.79084096072856\n"
     ]
    }
   ],
   "source": [
    "upper_limit_Weight= Q3_weight+(1.5*IQR_weight)\n",
    "lower_limit_Weight= Q1_weight-(1.5*IQR_weight)\n",
    "print(upper_limit_Weight,lower_limit_Weight)"
   ]
  },
  {
   "cell_type": "markdown",
   "id": "12de057c-0ccf-43b2-a26e-33db2d2e50c9",
   "metadata": {},
   "source": [
    "## Remove outliers using Height IQR"
   ]
  },
  {
   "cell_type": "code",
   "execution_count": 55,
   "id": "b7c6e734-c1be-49d2-8492-3d33938454f5",
   "metadata": {},
   "outputs": [],
   "source": [
    "df1=df[(df.Height>lower_limit_height)&(df.Height<upper_limit_height)]"
   ]
  },
  {
   "cell_type": "code",
   "execution_count": 56,
   "id": "c41b225f-ee55-485b-811a-457e9c3f17d7",
   "metadata": {},
   "outputs": [
    {
     "data": {
      "text/plain": [
       "(9992, 3)"
      ]
     },
     "execution_count": 56,
     "metadata": {},
     "output_type": "execute_result"
    }
   ],
   "source": [
    "df1.shape"
   ]
  },
  {
   "cell_type": "code",
   "execution_count": 57,
   "id": "07a4e9a0-f465-41af-8484-a0018238f0a6",
   "metadata": {},
   "outputs": [],
   "source": [
    "outlier_removed_height = df.shape[0]-df1.shape[0]"
   ]
  },
  {
   "cell_type": "code",
   "execution_count": 58,
   "id": "2875ff37-cccb-473a-b5a6-77433d51e69e",
   "metadata": {},
   "outputs": [
    {
     "name": "stdout",
     "output_type": "stream",
     "text": [
      "the number of outlers removed using height feature IQR is 8\n"
     ]
    }
   ],
   "source": [
    "print(\"the number of outlers removed using height feature IQR is\",outlier_removed_height)"
   ]
  },
  {
   "cell_type": "code",
   "execution_count": 59,
   "id": "b904d992-9f38-4933-8c13-33b08338cf1a",
   "metadata": {},
   "outputs": [],
   "source": [
    "df2=df1[(df1.Weight>lower_limit_Weight)&(df1.Weight<upper_limit_Weight)]"
   ]
  },
  {
   "cell_type": "code",
   "execution_count": 60,
   "id": "772bc7b0-0b51-432f-b50e-532b6c1a67f2",
   "metadata": {},
   "outputs": [
    {
     "data": {
      "text/plain": [
       "(9992, 3)"
      ]
     },
     "execution_count": 60,
     "metadata": {},
     "output_type": "execute_result"
    }
   ],
   "source": [
    "df2.shape"
   ]
  },
  {
   "cell_type": "code",
   "execution_count": 41,
   "id": "4b94f1dc-c511-440e-8059-c363b89b3762",
   "metadata": {},
   "outputs": [
    {
     "name": "stdout",
     "output_type": "stream",
     "text": [
      "the number of outlers removed using weight feature IQR is 0\n"
     ]
    }
   ],
   "source": [
    "print(\"the number of outlers removed using weight feature IQR is\",outlier_removed_weight)"
   ]
  },
  {
   "cell_type": "code",
   "execution_count": null,
   "id": "d9496bd1-8519-4366-8f94-781cb683b24f",
   "metadata": {},
   "outputs": [],
   "source": []
  }
 ],
 "metadata": {
  "kernelspec": {
   "display_name": "Python 3 (ipykernel)",
   "language": "python",
   "name": "python3"
  },
  "language_info": {
   "codemirror_mode": {
    "name": "ipython",
    "version": 3
   },
   "file_extension": ".py",
   "mimetype": "text/x-python",
   "name": "python",
   "nbconvert_exporter": "python",
   "pygments_lexer": "ipython3",
   "version": "3.9.13"
  }
 },
 "nbformat": 4,
 "nbformat_minor": 5
}
