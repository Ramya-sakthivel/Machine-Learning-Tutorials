{
 "cells": [
  {
   "cell_type": "code",
   "execution_count": 46,
   "id": "dadb44af-8bd2-41aa-a558-4a3695e923fd",
   "metadata": {},
   "outputs": [
    {
     "data": {
      "text/html": [
       "<div>\n",
       "<style scoped>\n",
       "    .dataframe tbody tr th:only-of-type {\n",
       "        vertical-align: middle;\n",
       "    }\n",
       "\n",
       "    .dataframe tbody tr th {\n",
       "        vertical-align: top;\n",
       "    }\n",
       "\n",
       "    .dataframe thead th {\n",
       "        text-align: right;\n",
       "    }\n",
       "</style>\n",
       "<table border=\"1\" class=\"dataframe\">\n",
       "  <thead>\n",
       "    <tr style=\"text-align: right;\">\n",
       "      <th></th>\n",
       "      <th>location</th>\n",
       "      <th>size</th>\n",
       "      <th>total_sqft</th>\n",
       "      <th>bath</th>\n",
       "      <th>price</th>\n",
       "      <th>price_per_square_foot</th>\n",
       "    </tr>\n",
       "  </thead>\n",
       "  <tbody>\n",
       "    <tr>\n",
       "      <th>0</th>\n",
       "      <td>Electronic City Phase II</td>\n",
       "      <td>2 BHK</td>\n",
       "      <td>1056</td>\n",
       "      <td>2.0</td>\n",
       "      <td>39.07</td>\n",
       "      <td>3700</td>\n",
       "    </tr>\n",
       "    <tr>\n",
       "      <th>1</th>\n",
       "      <td>Chikka Tirupathi</td>\n",
       "      <td>4 Bedroom</td>\n",
       "      <td>2600</td>\n",
       "      <td>5.0</td>\n",
       "      <td>120.00</td>\n",
       "      <td>4615</td>\n",
       "    </tr>\n",
       "    <tr>\n",
       "      <th>2</th>\n",
       "      <td>Uttarahalli</td>\n",
       "      <td>3 BHK</td>\n",
       "      <td>1440</td>\n",
       "      <td>2.0</td>\n",
       "      <td>62.00</td>\n",
       "      <td>4306</td>\n",
       "    </tr>\n",
       "    <tr>\n",
       "      <th>3</th>\n",
       "      <td>Lingadheeranahalli</td>\n",
       "      <td>3 BHK</td>\n",
       "      <td>1521</td>\n",
       "      <td>3.0</td>\n",
       "      <td>95.00</td>\n",
       "      <td>6246</td>\n",
       "    </tr>\n",
       "    <tr>\n",
       "      <th>4</th>\n",
       "      <td>Kothanur</td>\n",
       "      <td>2 BHK</td>\n",
       "      <td>1200</td>\n",
       "      <td>2.0</td>\n",
       "      <td>51.00</td>\n",
       "      <td>4250</td>\n",
       "    </tr>\n",
       "    <tr>\n",
       "      <th>...</th>\n",
       "      <td>...</td>\n",
       "      <td>...</td>\n",
       "      <td>...</td>\n",
       "      <td>...</td>\n",
       "      <td>...</td>\n",
       "      <td>...</td>\n",
       "    </tr>\n",
       "    <tr>\n",
       "      <th>13078</th>\n",
       "      <td>Whitefield</td>\n",
       "      <td>5 Bedroom</td>\n",
       "      <td>3453</td>\n",
       "      <td>4.0</td>\n",
       "      <td>231.00</td>\n",
       "      <td>6690</td>\n",
       "    </tr>\n",
       "    <tr>\n",
       "      <th>13079</th>\n",
       "      <td>Richards Town</td>\n",
       "      <td>4 BHK</td>\n",
       "      <td>3600</td>\n",
       "      <td>5.0</td>\n",
       "      <td>400.00</td>\n",
       "      <td>11111</td>\n",
       "    </tr>\n",
       "    <tr>\n",
       "      <th>13080</th>\n",
       "      <td>Raja Rajeshwari Nagar</td>\n",
       "      <td>2 BHK</td>\n",
       "      <td>1141</td>\n",
       "      <td>2.0</td>\n",
       "      <td>60.00</td>\n",
       "      <td>5259</td>\n",
       "    </tr>\n",
       "    <tr>\n",
       "      <th>13081</th>\n",
       "      <td>Padmanabhanagar</td>\n",
       "      <td>4 BHK</td>\n",
       "      <td>4689</td>\n",
       "      <td>4.0</td>\n",
       "      <td>488.00</td>\n",
       "      <td>10407</td>\n",
       "    </tr>\n",
       "    <tr>\n",
       "      <th>13082</th>\n",
       "      <td>Doddathoguru</td>\n",
       "      <td>1 BHK</td>\n",
       "      <td>550</td>\n",
       "      <td>1.0</td>\n",
       "      <td>17.00</td>\n",
       "      <td>3091</td>\n",
       "    </tr>\n",
       "  </tbody>\n",
       "</table>\n",
       "<p>13083 rows × 6 columns</p>\n",
       "</div>"
      ],
      "text/plain": [
       "                       location       size total_sqft  bath   price  \\\n",
       "0      Electronic City Phase II      2 BHK       1056   2.0   39.07   \n",
       "1              Chikka Tirupathi  4 Bedroom       2600   5.0  120.00   \n",
       "2                   Uttarahalli      3 BHK       1440   2.0   62.00   \n",
       "3            Lingadheeranahalli      3 BHK       1521   3.0   95.00   \n",
       "4                      Kothanur      2 BHK       1200   2.0   51.00   \n",
       "...                         ...        ...        ...   ...     ...   \n",
       "13078                Whitefield  5 Bedroom       3453   4.0  231.00   \n",
       "13079             Richards Town      4 BHK       3600   5.0  400.00   \n",
       "13080     Raja Rajeshwari Nagar      2 BHK       1141   2.0   60.00   \n",
       "13081           Padmanabhanagar      4 BHK       4689   4.0  488.00   \n",
       "13082              Doddathoguru      1 BHK        550   1.0   17.00   \n",
       "\n",
       "      price_per_square_foot  \n",
       "0                      3700  \n",
       "1                      4615  \n",
       "2                      4306  \n",
       "3                      6246  \n",
       "4                      4250  \n",
       "...                     ...  \n",
       "13078                  6690  \n",
       "13079                 11111  \n",
       "13080                  5259  \n",
       "13081                 10407  \n",
       "13082                  3091  \n",
       "\n",
       "[13083 rows x 6 columns]"
      ]
     },
     "execution_count": 46,
     "metadata": {},
     "output_type": "execute_result"
    }
   ],
   "source": [
    "import pandas as pd\n",
    "df=pd.read_csv(\"bangalore_house_price.csv\")\n",
    "df"
   ]
  },
  {
   "cell_type": "code",
   "execution_count": 47,
   "id": "511f100e-33da-4acc-83d9-d69b777f5fa0",
   "metadata": {},
   "outputs": [
    {
     "data": {
      "text/plain": [
       "location                  1\n",
       "size                      9\n",
       "total_sqft                0\n",
       "bath                     19\n",
       "price                     0\n",
       "price_per_square_foot     0\n",
       "dtype: int64"
      ]
     },
     "execution_count": 47,
     "metadata": {},
     "output_type": "execute_result"
    }
   ],
   "source": [
    "df.isna().sum()"
   ]
  },
  {
   "cell_type": "code",
   "execution_count": 48,
   "id": "71eb3e02-f23b-4d85-b2d4-985ba62d27e4",
   "metadata": {},
   "outputs": [
    {
     "data": {
      "text/plain": [
       "location                  1\n",
       "size                      9\n",
       "total_sqft                0\n",
       "bath                     19\n",
       "price                     0\n",
       "price_per_square_foot     0\n",
       "dtype: int64"
      ]
     },
     "execution_count": 48,
     "metadata": {},
     "output_type": "execute_result"
    }
   ],
   "source": [
    "df.isnull().sum()"
   ]
  },
  {
   "cell_type": "code",
   "execution_count": 49,
   "id": "1cbba1d2-3f7d-47aa-a3c4-60bc96268e42",
   "metadata": {},
   "outputs": [
    {
     "data": {
      "text/html": [
       "<div>\n",
       "<style scoped>\n",
       "    .dataframe tbody tr th:only-of-type {\n",
       "        vertical-align: middle;\n",
       "    }\n",
       "\n",
       "    .dataframe tbody tr th {\n",
       "        vertical-align: top;\n",
       "    }\n",
       "\n",
       "    .dataframe thead th {\n",
       "        text-align: right;\n",
       "    }\n",
       "</style>\n",
       "<table border=\"1\" class=\"dataframe\">\n",
       "  <thead>\n",
       "    <tr style=\"text-align: right;\">\n",
       "      <th></th>\n",
       "      <th>location</th>\n",
       "      <th>size</th>\n",
       "      <th>total_sqft</th>\n",
       "      <th>bath</th>\n",
       "      <th>price</th>\n",
       "      <th>price_per_square_foot</th>\n",
       "    </tr>\n",
       "  </thead>\n",
       "  <tbody>\n",
       "    <tr>\n",
       "      <th>309</th>\n",
       "      <td>Whitefield</td>\n",
       "      <td>2 BHK</td>\n",
       "      <td>1280</td>\n",
       "      <td>2.0</td>\n",
       "      <td>75.00</td>\n",
       "      <td>5859</td>\n",
       "    </tr>\n",
       "    <tr>\n",
       "      <th>10335</th>\n",
       "      <td>Munnekollal</td>\n",
       "      <td>3 BHK</td>\n",
       "      <td>1800</td>\n",
       "      <td>3.0</td>\n",
       "      <td>65.00</td>\n",
       "      <td>3611</td>\n",
       "    </tr>\n",
       "    <tr>\n",
       "      <th>5432</th>\n",
       "      <td>Panathur</td>\n",
       "      <td>2 BHK</td>\n",
       "      <td>1198</td>\n",
       "      <td>2.0</td>\n",
       "      <td>82.00</td>\n",
       "      <td>6845</td>\n",
       "    </tr>\n",
       "    <tr>\n",
       "      <th>12515</th>\n",
       "      <td>Kanakpura Road</td>\n",
       "      <td>2 BHK</td>\n",
       "      <td>700</td>\n",
       "      <td>2.0</td>\n",
       "      <td>36.00</td>\n",
       "      <td>5143</td>\n",
       "    </tr>\n",
       "    <tr>\n",
       "      <th>6319</th>\n",
       "      <td>Gollarapalya Hosahalli</td>\n",
       "      <td>2 BHK</td>\n",
       "      <td>861</td>\n",
       "      <td>2.0</td>\n",
       "      <td>36.50</td>\n",
       "      <td>4239</td>\n",
       "    </tr>\n",
       "    <tr>\n",
       "      <th>6571</th>\n",
       "      <td>Kothanur</td>\n",
       "      <td>8 Bedroom</td>\n",
       "      <td>1020</td>\n",
       "      <td>10.0</td>\n",
       "      <td>155.00</td>\n",
       "      <td>15196</td>\n",
       "    </tr>\n",
       "    <tr>\n",
       "      <th>6873</th>\n",
       "      <td>Mysore Road</td>\n",
       "      <td>2 BHK</td>\n",
       "      <td>940</td>\n",
       "      <td>2.0</td>\n",
       "      <td>43.61</td>\n",
       "      <td>4639</td>\n",
       "    </tr>\n",
       "    <tr>\n",
       "      <th>10476</th>\n",
       "      <td>Bannerghatta</td>\n",
       "      <td>2 BHK</td>\n",
       "      <td>1200</td>\n",
       "      <td>2.0</td>\n",
       "      <td>73.20</td>\n",
       "      <td>6100</td>\n",
       "    </tr>\n",
       "    <tr>\n",
       "      <th>9452</th>\n",
       "      <td>Garebhavipalya</td>\n",
       "      <td>3 BHK</td>\n",
       "      <td>1275</td>\n",
       "      <td>3.0</td>\n",
       "      <td>55.00</td>\n",
       "      <td>4314</td>\n",
       "    </tr>\n",
       "    <tr>\n",
       "      <th>9149</th>\n",
       "      <td>7th Phase JP Nagar</td>\n",
       "      <td>2 BHK</td>\n",
       "      <td>1270</td>\n",
       "      <td>2.0</td>\n",
       "      <td>80.00</td>\n",
       "      <td>6299</td>\n",
       "    </tr>\n",
       "    <tr>\n",
       "      <th>406</th>\n",
       "      <td>Amco Colony</td>\n",
       "      <td>3 BHK</td>\n",
       "      <td>1760</td>\n",
       "      <td>3.0</td>\n",
       "      <td>88.00</td>\n",
       "      <td>5000</td>\n",
       "    </tr>\n",
       "    <tr>\n",
       "      <th>12304</th>\n",
       "      <td>Hebbal</td>\n",
       "      <td>2 BHK</td>\n",
       "      <td>1294</td>\n",
       "      <td>2.0</td>\n",
       "      <td>115.00</td>\n",
       "      <td>8887</td>\n",
       "    </tr>\n",
       "    <tr>\n",
       "      <th>11141</th>\n",
       "      <td>Whitefield</td>\n",
       "      <td>3 BHK</td>\n",
       "      <td>2280</td>\n",
       "      <td>4.0</td>\n",
       "      <td>125.00</td>\n",
       "      <td>5482</td>\n",
       "    </tr>\n",
       "    <tr>\n",
       "      <th>6376</th>\n",
       "      <td>Yeshwanthpur</td>\n",
       "      <td>9 Bedroom</td>\n",
       "      <td>2400</td>\n",
       "      <td>6.0</td>\n",
       "      <td>270.00</td>\n",
       "      <td>11250</td>\n",
       "    </tr>\n",
       "    <tr>\n",
       "      <th>3099</th>\n",
       "      <td>Malleshpalya</td>\n",
       "      <td>3 BHK</td>\n",
       "      <td>1900</td>\n",
       "      <td>3.0</td>\n",
       "      <td>60.00</td>\n",
       "      <td>3158</td>\n",
       "    </tr>\n",
       "    <tr>\n",
       "      <th>2770</th>\n",
       "      <td>Haralur Road</td>\n",
       "      <td>2 BHK</td>\n",
       "      <td>1243</td>\n",
       "      <td>2.0</td>\n",
       "      <td>46.00</td>\n",
       "      <td>3701</td>\n",
       "    </tr>\n",
       "    <tr>\n",
       "      <th>7307</th>\n",
       "      <td>Sarjapur  Road</td>\n",
       "      <td>2 BHK</td>\n",
       "      <td>984</td>\n",
       "      <td>2.0</td>\n",
       "      <td>55.00</td>\n",
       "      <td>5589</td>\n",
       "    </tr>\n",
       "    <tr>\n",
       "      <th>1258</th>\n",
       "      <td>Haralur Road</td>\n",
       "      <td>2 BHK</td>\n",
       "      <td>1194</td>\n",
       "      <td>2.0</td>\n",
       "      <td>47.00</td>\n",
       "      <td>3936</td>\n",
       "    </tr>\n",
       "    <tr>\n",
       "      <th>746</th>\n",
       "      <td>V.V Puram</td>\n",
       "      <td>2 BHK</td>\n",
       "      <td>775</td>\n",
       "      <td>2.0</td>\n",
       "      <td>55.00</td>\n",
       "      <td>7097</td>\n",
       "    </tr>\n",
       "    <tr>\n",
       "      <th>10982</th>\n",
       "      <td>LB Shastri Nagar</td>\n",
       "      <td>8 Bedroom</td>\n",
       "      <td>2400</td>\n",
       "      <td>8.0</td>\n",
       "      <td>250.00</td>\n",
       "      <td>10417</td>\n",
       "    </tr>\n",
       "  </tbody>\n",
       "</table>\n",
       "</div>"
      ],
      "text/plain": [
       "                     location       size total_sqft  bath   price  \\\n",
       "309                Whitefield      2 BHK       1280   2.0   75.00   \n",
       "10335             Munnekollal      3 BHK       1800   3.0   65.00   \n",
       "5432                 Panathur      2 BHK       1198   2.0   82.00   \n",
       "12515          Kanakpura Road      2 BHK        700   2.0   36.00   \n",
       "6319   Gollarapalya Hosahalli      2 BHK        861   2.0   36.50   \n",
       "6571                 Kothanur  8 Bedroom       1020  10.0  155.00   \n",
       "6873              Mysore Road      2 BHK        940   2.0   43.61   \n",
       "10476            Bannerghatta      2 BHK       1200   2.0   73.20   \n",
       "9452           Garebhavipalya      3 BHK       1275   3.0   55.00   \n",
       "9149       7th Phase JP Nagar      2 BHK       1270   2.0   80.00   \n",
       "406               Amco Colony      3 BHK       1760   3.0   88.00   \n",
       "12304                  Hebbal      2 BHK       1294   2.0  115.00   \n",
       "11141              Whitefield      3 BHK       2280   4.0  125.00   \n",
       "6376             Yeshwanthpur  9 Bedroom       2400   6.0  270.00   \n",
       "3099             Malleshpalya      3 BHK       1900   3.0   60.00   \n",
       "2770             Haralur Road      2 BHK       1243   2.0   46.00   \n",
       "7307           Sarjapur  Road      2 BHK        984   2.0   55.00   \n",
       "1258             Haralur Road      2 BHK       1194   2.0   47.00   \n",
       "746                 V.V Puram      2 BHK        775   2.0   55.00   \n",
       "10982        LB Shastri Nagar  8 Bedroom       2400   8.0  250.00   \n",
       "\n",
       "      price_per_square_foot  \n",
       "309                    5859  \n",
       "10335                  3611  \n",
       "5432                   6845  \n",
       "12515                  5143  \n",
       "6319                   4239  \n",
       "6571                  15196  \n",
       "6873                   4639  \n",
       "10476                  6100  \n",
       "9452                   4314  \n",
       "9149                   6299  \n",
       "406                    5000  \n",
       "12304                  8887  \n",
       "11141                  5482  \n",
       "6376                  11250  \n",
       "3099                   3158  \n",
       "2770                   3701  \n",
       "7307                   5589  \n",
       "1258                   3936  \n",
       "746                    7097  \n",
       "10982                 10417  "
      ]
     },
     "execution_count": 49,
     "metadata": {},
     "output_type": "execute_result"
    }
   ],
   "source": [
    "\n",
    "df.sample(20)\n"
   ]
  },
  {
   "cell_type": "code",
   "execution_count": 50,
   "id": "ae60a6bb-abc5-476d-a31f-428d59fc322f",
   "metadata": {},
   "outputs": [],
   "source": [
    "df=df[df['price_per_square_foot']!=\"#VALUE!\"]\n",
    "\n"
   ]
  },
  {
   "cell_type": "code",
   "execution_count": 55,
   "id": "2d0b3b31-0bdb-4681-83b5-062c9488595e",
   "metadata": {},
   "outputs": [
    {
     "data": {
      "text/plain": [
       "dtype('int32')"
      ]
     },
     "execution_count": 55,
     "metadata": {},
     "output_type": "execute_result"
    }
   ],
   "source": [
    "df['price_per_square_foot'].dtype"
   ]
  },
  {
   "cell_type": "code",
   "execution_count": null,
   "id": "e3dd2b2c-b60f-474b-acbc-0ac701f10e6a",
   "metadata": {},
   "outputs": [],
   "source": [
    "df['price_per_square_foot']=df['price_per_square_foot'].astype(str).astype(int)"
   ]
  },
  {
   "cell_type": "code",
   "execution_count": 56,
   "id": "8fb6dc88-3f40-4512-a14a-11f36b058f04",
   "metadata": {},
   "outputs": [
    {
     "data": {
      "text/plain": [
       "23807.49999999989"
      ]
     },
     "execution_count": 56,
     "metadata": {},
     "output_type": "execute_result"
    }
   ],
   "source": [
    "max_thershold = df['price_per_square_foot'].quantile(0.99)\n",
    "max_thershold \n"
   ]
  },
  {
   "cell_type": "code",
   "execution_count": 57,
   "id": "03f5b968-1526-4e82-987e-7a0be735c883",
   "metadata": {},
   "outputs": [
    {
     "data": {
      "text/plain": [
       "1250.0"
      ]
     },
     "execution_count": 57,
     "metadata": {},
     "output_type": "execute_result"
    }
   ],
   "source": [
    "min_thershold = df['price_per_square_foot'].quantile(0.001)\n",
    "min_thershold "
   ]
  },
  {
   "cell_type": "code",
   "execution_count": 58,
   "id": "77191fee-2189-4055-8331-bedb0412a744",
   "metadata": {},
   "outputs": [
    {
     "data": {
      "text/plain": [
       "(13078, 6)"
      ]
     },
     "execution_count": 58,
     "metadata": {},
     "output_type": "execute_result"
    }
   ],
   "source": [
    "df.shape"
   ]
  },
  {
   "cell_type": "code",
   "execution_count": 59,
   "id": "bc37d269-577d-4b29-ac7f-73490280e7e0",
   "metadata": {},
   "outputs": [],
   "source": [
    "df =df[(df['price_per_square_foot']>min_thershold) &( df['price_per_square_foot']<max_thershold)]"
   ]
  },
  {
   "cell_type": "code",
   "execution_count": 60,
   "id": "1a1709ba-c8bd-4880-b285-ab96761c2d17",
   "metadata": {},
   "outputs": [
    {
     "data": {
      "text/plain": [
       "(12932, 6)"
      ]
     },
     "execution_count": 60,
     "metadata": {},
     "output_type": "execute_result"
    }
   ],
   "source": [
    "df.shape"
   ]
  },
  {
   "cell_type": "code",
   "execution_count": null,
   "id": "e0d0348b-bf8b-4190-a3fd-d669dcae1d71",
   "metadata": {},
   "outputs": [],
   "source": []
  }
 ],
 "metadata": {
  "kernelspec": {
   "display_name": "Python 3 (ipykernel)",
   "language": "python",
   "name": "python3"
  },
  "language_info": {
   "codemirror_mode": {
    "name": "ipython",
    "version": 3
   },
   "file_extension": ".py",
   "mimetype": "text/x-python",
   "name": "python",
   "nbconvert_exporter": "python",
   "pygments_lexer": "ipython3",
   "version": "3.9.13"
  }
 },
 "nbformat": 4,
 "nbformat_minor": 5
}
