{
 "cells": [
  {
   "cell_type": "code",
   "execution_count": 1,
   "id": "9a4634cb-a962-402f-88c7-bf60c7a94882",
   "metadata": {},
   "outputs": [
    {
     "data": {
      "text/html": [
       "<div>\n",
       "<style scoped>\n",
       "    .dataframe tbody tr th:only-of-type {\n",
       "        vertical-align: middle;\n",
       "    }\n",
       "\n",
       "    .dataframe tbody tr th {\n",
       "        vertical-align: top;\n",
       "    }\n",
       "\n",
       "    .dataframe thead th {\n",
       "        text-align: right;\n",
       "    }\n",
       "</style>\n",
       "<table border=\"1\" class=\"dataframe\">\n",
       "  <thead>\n",
       "    <tr style=\"text-align: right;\">\n",
       "      <th></th>\n",
       "      <th>location</th>\n",
       "      <th>size</th>\n",
       "      <th>total_sqft</th>\n",
       "      <th>bath</th>\n",
       "      <th>price</th>\n",
       "      <th>price_per_square_foot</th>\n",
       "    </tr>\n",
       "  </thead>\n",
       "  <tbody>\n",
       "    <tr>\n",
       "      <th>0</th>\n",
       "      <td>Electronic City Phase II</td>\n",
       "      <td>2 BHK</td>\n",
       "      <td>1056</td>\n",
       "      <td>2.0</td>\n",
       "      <td>39.07</td>\n",
       "      <td>3700</td>\n",
       "    </tr>\n",
       "    <tr>\n",
       "      <th>1</th>\n",
       "      <td>Chikka Tirupathi</td>\n",
       "      <td>4 Bedroom</td>\n",
       "      <td>2600</td>\n",
       "      <td>5.0</td>\n",
       "      <td>120.00</td>\n",
       "      <td>4615</td>\n",
       "    </tr>\n",
       "    <tr>\n",
       "      <th>2</th>\n",
       "      <td>Uttarahalli</td>\n",
       "      <td>3 BHK</td>\n",
       "      <td>1440</td>\n",
       "      <td>2.0</td>\n",
       "      <td>62.00</td>\n",
       "      <td>4306</td>\n",
       "    </tr>\n",
       "    <tr>\n",
       "      <th>3</th>\n",
       "      <td>Lingadheeranahalli</td>\n",
       "      <td>3 BHK</td>\n",
       "      <td>1521</td>\n",
       "      <td>3.0</td>\n",
       "      <td>95.00</td>\n",
       "      <td>6246</td>\n",
       "    </tr>\n",
       "    <tr>\n",
       "      <th>4</th>\n",
       "      <td>Kothanur</td>\n",
       "      <td>2 BHK</td>\n",
       "      <td>1200</td>\n",
       "      <td>2.0</td>\n",
       "      <td>51.00</td>\n",
       "      <td>4250</td>\n",
       "    </tr>\n",
       "    <tr>\n",
       "      <th>...</th>\n",
       "      <td>...</td>\n",
       "      <td>...</td>\n",
       "      <td>...</td>\n",
       "      <td>...</td>\n",
       "      <td>...</td>\n",
       "      <td>...</td>\n",
       "    </tr>\n",
       "    <tr>\n",
       "      <th>13078</th>\n",
       "      <td>Whitefield</td>\n",
       "      <td>5 Bedroom</td>\n",
       "      <td>3453</td>\n",
       "      <td>4.0</td>\n",
       "      <td>231.00</td>\n",
       "      <td>6690</td>\n",
       "    </tr>\n",
       "    <tr>\n",
       "      <th>13079</th>\n",
       "      <td>Richards Town</td>\n",
       "      <td>4 BHK</td>\n",
       "      <td>3600</td>\n",
       "      <td>5.0</td>\n",
       "      <td>400.00</td>\n",
       "      <td>11111</td>\n",
       "    </tr>\n",
       "    <tr>\n",
       "      <th>13080</th>\n",
       "      <td>Raja Rajeshwari Nagar</td>\n",
       "      <td>2 BHK</td>\n",
       "      <td>1141</td>\n",
       "      <td>2.0</td>\n",
       "      <td>60.00</td>\n",
       "      <td>5259</td>\n",
       "    </tr>\n",
       "    <tr>\n",
       "      <th>13081</th>\n",
       "      <td>Padmanabhanagar</td>\n",
       "      <td>4 BHK</td>\n",
       "      <td>4689</td>\n",
       "      <td>4.0</td>\n",
       "      <td>488.00</td>\n",
       "      <td>10407</td>\n",
       "    </tr>\n",
       "    <tr>\n",
       "      <th>13082</th>\n",
       "      <td>Doddathoguru</td>\n",
       "      <td>1 BHK</td>\n",
       "      <td>550</td>\n",
       "      <td>1.0</td>\n",
       "      <td>17.00</td>\n",
       "      <td>3091</td>\n",
       "    </tr>\n",
       "  </tbody>\n",
       "</table>\n",
       "<p>13083 rows × 6 columns</p>\n",
       "</div>"
      ],
      "text/plain": [
       "                       location       size total_sqft  bath   price  \\\n",
       "0      Electronic City Phase II      2 BHK       1056   2.0   39.07   \n",
       "1              Chikka Tirupathi  4 Bedroom       2600   5.0  120.00   \n",
       "2                   Uttarahalli      3 BHK       1440   2.0   62.00   \n",
       "3            Lingadheeranahalli      3 BHK       1521   3.0   95.00   \n",
       "4                      Kothanur      2 BHK       1200   2.0   51.00   \n",
       "...                         ...        ...        ...   ...     ...   \n",
       "13078                Whitefield  5 Bedroom       3453   4.0  231.00   \n",
       "13079             Richards Town      4 BHK       3600   5.0  400.00   \n",
       "13080     Raja Rajeshwari Nagar      2 BHK       1141   2.0   60.00   \n",
       "13081           Padmanabhanagar      4 BHK       4689   4.0  488.00   \n",
       "13082              Doddathoguru      1 BHK        550   1.0   17.00   \n",
       "\n",
       "      price_per_square_foot  \n",
       "0                      3700  \n",
       "1                      4615  \n",
       "2                      4306  \n",
       "3                      6246  \n",
       "4                      4250  \n",
       "...                     ...  \n",
       "13078                  6690  \n",
       "13079                 11111  \n",
       "13080                  5259  \n",
       "13081                 10407  \n",
       "13082                  3091  \n",
       "\n",
       "[13083 rows x 6 columns]"
      ]
     },
     "execution_count": 1,
     "metadata": {},
     "output_type": "execute_result"
    }
   ],
   "source": [
    "import pandas as pd\n",
    "df=pd.read_csv(\"bangalore_house_price.csv\")\n",
    "df"
   ]
  },
  {
   "cell_type": "code",
   "execution_count": 2,
   "id": "17d75440-b261-46de-91bd-d9ced84164de",
   "metadata": {},
   "outputs": [],
   "source": [
    "df=df[df['price_per_square_foot']!=\"#VALUE!\"]"
   ]
  },
  {
   "cell_type": "code",
   "execution_count": 11,
   "id": "d833b7dd-4b90-42ca-8d07-a0e2c758855b",
   "metadata": {},
   "outputs": [
    {
     "name": "stderr",
     "output_type": "stream",
     "text": [
      "C:\\Users\\ramya\\AppData\\Local\\Temp\\ipykernel_27212\\3681875620.py:1: SettingWithCopyWarning: \n",
      "A value is trying to be set on a copy of a slice from a DataFrame.\n",
      "Try using .loc[row_indexer,col_indexer] = value instead\n",
      "\n",
      "See the caveats in the documentation: https://pandas.pydata.org/pandas-docs/stable/user_guide/indexing.html#returning-a-view-versus-a-copy\n",
      "  df.price_per_square_foot=df.price_per_square_foot.astype(str).astype(int)\n"
     ]
    },
    {
     "data": {
      "text/html": [
       "<div>\n",
       "<style scoped>\n",
       "    .dataframe tbody tr th:only-of-type {\n",
       "        vertical-align: middle;\n",
       "    }\n",
       "\n",
       "    .dataframe tbody tr th {\n",
       "        vertical-align: top;\n",
       "    }\n",
       "\n",
       "    .dataframe thead th {\n",
       "        text-align: right;\n",
       "    }\n",
       "</style>\n",
       "<table border=\"1\" class=\"dataframe\">\n",
       "  <thead>\n",
       "    <tr style=\"text-align: right;\">\n",
       "      <th></th>\n",
       "      <th>location</th>\n",
       "      <th>size</th>\n",
       "      <th>total_sqft</th>\n",
       "      <th>bath</th>\n",
       "      <th>price</th>\n",
       "      <th>price_per_square_foot</th>\n",
       "    </tr>\n",
       "  </thead>\n",
       "  <tbody>\n",
       "    <tr>\n",
       "      <th>0</th>\n",
       "      <td>Electronic City Phase II</td>\n",
       "      <td>2 BHK</td>\n",
       "      <td>1056</td>\n",
       "      <td>2.0</td>\n",
       "      <td>39.07</td>\n",
       "      <td>3700</td>\n",
       "    </tr>\n",
       "    <tr>\n",
       "      <th>1</th>\n",
       "      <td>Chikka Tirupathi</td>\n",
       "      <td>4 Bedroom</td>\n",
       "      <td>2600</td>\n",
       "      <td>5.0</td>\n",
       "      <td>120.00</td>\n",
       "      <td>4615</td>\n",
       "    </tr>\n",
       "    <tr>\n",
       "      <th>2</th>\n",
       "      <td>Uttarahalli</td>\n",
       "      <td>3 BHK</td>\n",
       "      <td>1440</td>\n",
       "      <td>2.0</td>\n",
       "      <td>62.00</td>\n",
       "      <td>4306</td>\n",
       "    </tr>\n",
       "    <tr>\n",
       "      <th>3</th>\n",
       "      <td>Lingadheeranahalli</td>\n",
       "      <td>3 BHK</td>\n",
       "      <td>1521</td>\n",
       "      <td>3.0</td>\n",
       "      <td>95.00</td>\n",
       "      <td>6246</td>\n",
       "    </tr>\n",
       "    <tr>\n",
       "      <th>4</th>\n",
       "      <td>Kothanur</td>\n",
       "      <td>2 BHK</td>\n",
       "      <td>1200</td>\n",
       "      <td>2.0</td>\n",
       "      <td>51.00</td>\n",
       "      <td>4250</td>\n",
       "    </tr>\n",
       "    <tr>\n",
       "      <th>...</th>\n",
       "      <td>...</td>\n",
       "      <td>...</td>\n",
       "      <td>...</td>\n",
       "      <td>...</td>\n",
       "      <td>...</td>\n",
       "      <td>...</td>\n",
       "    </tr>\n",
       "    <tr>\n",
       "      <th>13078</th>\n",
       "      <td>Whitefield</td>\n",
       "      <td>5 Bedroom</td>\n",
       "      <td>3453</td>\n",
       "      <td>4.0</td>\n",
       "      <td>231.00</td>\n",
       "      <td>6690</td>\n",
       "    </tr>\n",
       "    <tr>\n",
       "      <th>13079</th>\n",
       "      <td>Richards Town</td>\n",
       "      <td>4 BHK</td>\n",
       "      <td>3600</td>\n",
       "      <td>5.0</td>\n",
       "      <td>400.00</td>\n",
       "      <td>11111</td>\n",
       "    </tr>\n",
       "    <tr>\n",
       "      <th>13080</th>\n",
       "      <td>Raja Rajeshwari Nagar</td>\n",
       "      <td>2 BHK</td>\n",
       "      <td>1141</td>\n",
       "      <td>2.0</td>\n",
       "      <td>60.00</td>\n",
       "      <td>5259</td>\n",
       "    </tr>\n",
       "    <tr>\n",
       "      <th>13081</th>\n",
       "      <td>Padmanabhanagar</td>\n",
       "      <td>4 BHK</td>\n",
       "      <td>4689</td>\n",
       "      <td>4.0</td>\n",
       "      <td>488.00</td>\n",
       "      <td>10407</td>\n",
       "    </tr>\n",
       "    <tr>\n",
       "      <th>13082</th>\n",
       "      <td>Doddathoguru</td>\n",
       "      <td>1 BHK</td>\n",
       "      <td>550</td>\n",
       "      <td>1.0</td>\n",
       "      <td>17.00</td>\n",
       "      <td>3091</td>\n",
       "    </tr>\n",
       "  </tbody>\n",
       "</table>\n",
       "<p>13078 rows × 6 columns</p>\n",
       "</div>"
      ],
      "text/plain": [
       "                       location       size total_sqft  bath   price  \\\n",
       "0      Electronic City Phase II      2 BHK       1056   2.0   39.07   \n",
       "1              Chikka Tirupathi  4 Bedroom       2600   5.0  120.00   \n",
       "2                   Uttarahalli      3 BHK       1440   2.0   62.00   \n",
       "3            Lingadheeranahalli      3 BHK       1521   3.0   95.00   \n",
       "4                      Kothanur      2 BHK       1200   2.0   51.00   \n",
       "...                         ...        ...        ...   ...     ...   \n",
       "13078                Whitefield  5 Bedroom       3453   4.0  231.00   \n",
       "13079             Richards Town      4 BHK       3600   5.0  400.00   \n",
       "13080     Raja Rajeshwari Nagar      2 BHK       1141   2.0   60.00   \n",
       "13081           Padmanabhanagar      4 BHK       4689   4.0  488.00   \n",
       "13082              Doddathoguru      1 BHK        550   1.0   17.00   \n",
       "\n",
       "       price_per_square_foot  \n",
       "0                       3700  \n",
       "1                       4615  \n",
       "2                       4306  \n",
       "3                       6246  \n",
       "4                       4250  \n",
       "...                      ...  \n",
       "13078                   6690  \n",
       "13079                  11111  \n",
       "13080                   5259  \n",
       "13081                  10407  \n",
       "13082                   3091  \n",
       "\n",
       "[13078 rows x 6 columns]"
      ]
     },
     "execution_count": 11,
     "metadata": {},
     "output_type": "execute_result"
    }
   ],
   "source": [
    "df.price_per_square_foot=df.price_per_square_foot.astype(str).astype(int)\n",
    "df"
   ]
  },
  {
   "cell_type": "markdown",
   "id": "d836b2b1-d393-446d-93e8-8af7f7897ae4",
   "metadata": {},
   "source": [
    "## plot histogram to see how is the data distribution"
   ]
  },
  {
   "cell_type": "code",
   "execution_count": 44,
   "id": "8f3ec58c-436b-425f-a73a-fd798e38d207",
   "metadata": {},
   "outputs": [
    {
     "data": {
      "image/png": "[encoded data removed]",
      "text/plain": [
       "<Figure size 1200x800 with 1 Axes>"
      ]
     },
     "metadata": {},
     "output_type": "display_data"
    }
   ],
   "source": [
    "import matplotlib\n",
    "from matplotlib import pyplot as plt\n",
    "%matplotlib inline\n",
    "matplotlib.rcParams['figure.figsize'] = (12,8)\n",
    "plt.hist(df.price_per_square_foot, bins=20, rwidth=0.8)\n",
    "plt.xlabel('price_per_square_foot')\n",
    "plt.ylabel('Count')\n",
    "plt.show()"
   ]
  },
  {
   "cell_type": "markdown",
   "id": "7d203202-c2e7-48af-9d53-68ea47239840",
   "metadata": {},
   "source": [
    "#### Above chart confirms our understanding that this dataset has some bad outliers. Because we see only one bar with more than 12000 data points but on the right hand side there are data points that have higher value for price per sqft but count of these data points is very tiny compared to 12000 hence we can hardly see any bar Using log scale can make visualization little better"
   ]
  },
  {
   "cell_type": "code",
   "execution_count": 46,
   "id": "f68b0159-b33e-4ca2-8532-60ef036f2436",
   "metadata": {},
   "outputs": [
    {
     "data": {
      "image/png": "[encoded data removed]",
      "text/plain": [
       "<Figure size 1200x800 with 1 Axes>"
      ]
     },
     "metadata": {},
     "output_type": "display_data"
    }
   ],
   "source": [
    "plt.hist(df.price_per_square_foot, bins=20, rwidth=0.8)\n",
    "plt.xlabel('Price per square ft')\n",
    "plt.ylabel('Count')\n",
    "plt.yscale('log')\n",
    "plt.show()"
   ]
  },
  {
   "cell_type": "code",
   "execution_count": null,
   "id": "b9d5d6a3-079b-4c5a-99da-0b12961790c9",
   "metadata": {},
   "outputs": [],
   "source": []
  },
  {
   "cell_type": "markdown",
   "id": "a50c9720-a8d7-492e-a0b8-39aa26757b19",
   "metadata": {},
   "source": [
    "## Remove outliers using percentile"
   ]
  },
  {
   "cell_type": "code",
   "execution_count": 12,
   "id": "df08cb13-db1e-4d0d-a5ac-6310f0511eb0",
   "metadata": {},
   "outputs": [],
   "source": [
    "min_limit,max_limit=df.price_per_square_foot.quantile([0.01,0.99])"
   ]
  },
  {
   "cell_type": "code",
   "execution_count": 16,
   "id": "3349d276-be96-4233-9cbd-d6f834ad1faa",
   "metadata": {},
   "outputs": [],
   "source": [
    "df2=df[(df.price_per_square_foot>min_limit)&(df.price_per_square_foot<max_limit)]"
   ]
  },
  {
   "cell_type": "code",
   "execution_count": 18,
   "id": "c5937cc5-0bc9-449f-a745-0a1513d201ee",
   "metadata": {
    "tags": []
   },
   "outputs": [
    {
     "data": {
      "text/plain": [
       "(12782, 6)"
      ]
     },
     "execution_count": 18,
     "metadata": {},
     "output_type": "execute_result"
    }
   ],
   "source": [
    "df2.shape"
   ]
  },
  {
   "cell_type": "code",
   "execution_count": 20,
   "id": "4aaad036-b308-402a-8778-72299c0af4c0",
   "metadata": {},
   "outputs": [
    {
     "data": {
      "text/plain": [
       "(13078, 6)"
      ]
     },
     "execution_count": 20,
     "metadata": {},
     "output_type": "execute_result"
    }
   ],
   "source": [
    "df.shape"
   ]
  },
  {
   "cell_type": "code",
   "execution_count": 23,
   "id": "fd14c973-ff4d-4283-b48b-ccc11d9eec59",
   "metadata": {},
   "outputs": [
    {
     "name": "stdout",
     "output_type": "stream",
     "text": [
      "The outliers removed using Percentile is 296\n"
     ]
    }
   ],
   "source": [
    "outliers_removed = df.shape[0]-df2.shape[0]\n",
    "print(\"The outliers removed using Percentile is\",outliers_removed)"
   ]
  },
  {
   "cell_type": "markdown",
   "id": "fc2f4962-56e8-445a-ac0a-4711e5932502",
   "metadata": {},
   "source": [
    "## Remove outliers using 4 standard deviation"
   ]
  },
  {
   "cell_type": "code",
   "execution_count": 27,
   "id": "51378518-9c80-43c6-952f-27d4e2bd5e11",
   "metadata": {},
   "outputs": [],
   "source": [
    "upper_limit=(df2.price_per_square_foot.mean())+(4*df2.price_per_square_foot.std())\n",
    "\n",
    "lower_limit=(df2.price_per_square_foot.mean())-(4*df2.price_per_square_foot.std())\n"
   ]
  },
  {
   "cell_type": "code",
   "execution_count": 28,
   "id": "2000fb4c-a386-45f5-8704-79b9d09184d0",
   "metadata": {},
   "outputs": [
    {
     "data": {
      "text/plain": [
       "20605.25961259332"
      ]
     },
     "execution_count": 28,
     "metadata": {},
     "output_type": "execute_result"
    }
   ],
   "source": [
    "upper_limit"
   ]
  },
  {
   "cell_type": "code",
   "execution_count": 29,
   "id": "b00e30a2-0688-4cdd-b49f-38172d768754",
   "metadata": {},
   "outputs": [
    {
     "data": {
      "text/plain": [
       "-7554.9031738513395"
      ]
     },
     "execution_count": 29,
     "metadata": {},
     "output_type": "execute_result"
    }
   ],
   "source": [
    "lower_limit"
   ]
  },
  {
   "cell_type": "code",
   "execution_count": 32,
   "id": "c2fb3f89-2cc9-4f1e-8ed8-73e69e1a5dec",
   "metadata": {},
   "outputs": [
    {
     "data": {
      "text/plain": [
       "(12693, 6)"
      ]
     },
     "execution_count": 32,
     "metadata": {},
     "output_type": "execute_result"
    }
   ],
   "source": [
    "df3=df2[(df2.price_per_square_foot>lower_limit)&(df2.price_per_square_foot<upper_limit)]\n",
    "df3.shape"
   ]
  },
  {
   "cell_type": "code",
   "execution_count": 35,
   "id": "af4533bd-4b19-40d6-9497-dacdeebda1bf",
   "metadata": {},
   "outputs": [
    {
     "name": "stdout",
     "output_type": "stream",
     "text": [
      "The number of rows removed as outliers is 89\n"
     ]
    }
   ],
   "source": [
    "outliers_removed=df2.shape[0]-df3.shape[0]\n",
    "print(\"The number of rows removed as outliers is\",outliers_removed)"
   ]
  },
  {
   "cell_type": "markdown",
   "id": "fe3a40cd-849d-46bf-ae6c-8c0f1fff4556",
   "metadata": {},
   "source": [
    "### Plot histogram after removing outliers using percentile and 4 standard deviation"
   ]
  },
  {
   "cell_type": "code",
   "execution_count": 47,
   "id": "a6f9ebc1-adf2-41ed-a1d9-46e0d4d25613",
   "metadata": {},
   "outputs": [
    {
     "data": {
      "image/png": "[encoded data removed]",
      "text/plain": [
       "<Figure size 1200x800 with 1 Axes>"
      ]
     },
     "metadata": {},
     "output_type": "display_data"
    }
   ],
   "source": [
    "plt.hist(df3.price_per_square_foot, bins=20, rwidth=0.8)\n",
    "plt.xlabel('Price per square ft')\n",
    "plt.ylabel('Count')\n",
    "plt.show()"
   ]
  },
  {
   "cell_type": "markdown",
   "id": "3c3de7a4-32af-4415-b7ab-4b321044a13d",
   "metadata": {},
   "source": [
    "## Draw bell curve"
   ]
  },
  {
   "cell_type": "code",
   "execution_count": 48,
   "id": "6b514ba3-119c-4a7d-842c-70542742e2ad",
   "metadata": {},
   "outputs": [
    {
     "data": {
      "text/plain": [
       "[<matplotlib.lines.Line2D at 0x141c82e7730>]"
      ]
     },
     "execution_count": 48,
     "metadata": {},
     "output_type": "execute_result"
    },
    {
     "data": {
      "image/png": "[encoded data removed]",
      "text/plain": [
       "<Figure size 1200x800 with 1 Axes>"
      ]
     },
     "metadata": {},
     "output_type": "display_data"
    }
   ],
   "source": [
    "from scipy.stats import norm\n",
    "import numpy as np\n",
    "\n",
    "plt.hist(df3.price_per_square_foot, bins=20, rwidth=0.8, density=True)\n",
    "plt.xlabel('Height (inches)')\n",
    "plt.ylabel('Count')\n",
    "\n",
    "rng = np.arange(-5000, df3.price_per_square_foot.max(), 100)\n",
    "plt.plot(rng, norm.pdf(rng,df3.price_per_square_foot.mean(),df3.price_per_square_foot.std()))"
   ]
  },
  {
   "cell_type": "markdown",
   "id": "7b4f64f6-dc50-474e-84c9-f1555c70a91a",
   "metadata": {},
   "source": [
    "## Remove outliers using Zscore"
   ]
  },
  {
   "cell_type": "code",
   "execution_count": 37,
   "id": "31e27078-0c30-4796-8e78-ed26833a3e7b",
   "metadata": {},
   "outputs": [
    {
     "name": "stderr",
     "output_type": "stream",
     "text": [
      "C:\\Users\\ramya\\AppData\\Local\\Temp\\ipykernel_27212\\2656615549.py:1: SettingWithCopyWarning: \n",
      "A value is trying to be set on a copy of a slice from a DataFrame.\n",
      "Try using .loc[row_indexer,col_indexer] = value instead\n",
      "\n",
      "See the caveats in the documentation: https://pandas.pydata.org/pandas-docs/stable/user_guide/indexing.html#returning-a-view-versus-a-copy\n",
      "  df3['zscore']=(df3.price_per_square_foot-df3.price_per_square_foot.mean())/df3.price_per_square_foot.std()\n"
     ]
    }
   ],
   "source": [
    "df3['zscore']=(df3.price_per_square_foot-df3.price_per_square_foot.mean())/df3.price_per_square_foot.std()"
   ]
  },
  {
   "cell_type": "code",
   "execution_count": 38,
   "id": "7162cac8-4a87-4be2-8f8d-b36bd8cd922f",
   "metadata": {},
   "outputs": [
    {
     "data": {
      "text/html": [
       "<div>\n",
       "<style scoped>\n",
       "    .dataframe tbody tr th:only-of-type {\n",
       "        vertical-align: middle;\n",
       "    }\n",
       "\n",
       "    .dataframe tbody tr th {\n",
       "        vertical-align: top;\n",
       "    }\n",
       "\n",
       "    .dataframe thead th {\n",
       "        text-align: right;\n",
       "    }\n",
       "</style>\n",
       "<table border=\"1\" class=\"dataframe\">\n",
       "  <thead>\n",
       "    <tr style=\"text-align: right;\">\n",
       "      <th></th>\n",
       "      <th>location</th>\n",
       "      <th>size</th>\n",
       "      <th>total_sqft</th>\n",
       "      <th>bath</th>\n",
       "      <th>price</th>\n",
       "      <th>price_per_square_foot</th>\n",
       "      <th>zscore</th>\n",
       "    </tr>\n",
       "  </thead>\n",
       "  <tbody>\n",
       "    <tr>\n",
       "      <th>4131</th>\n",
       "      <td>Old Madras Road</td>\n",
       "      <td>2 BHK</td>\n",
       "      <td>1171</td>\n",
       "      <td>2.0</td>\n",
       "      <td>75.00</td>\n",
       "      <td>6405</td>\n",
       "      <td>-0.003635</td>\n",
       "    </tr>\n",
       "    <tr>\n",
       "      <th>8653</th>\n",
       "      <td>Sector 1 HSR Layout</td>\n",
       "      <td>3 BHK</td>\n",
       "      <td>1720</td>\n",
       "      <td>3.0</td>\n",
       "      <td>83.00</td>\n",
       "      <td>4826</td>\n",
       "      <td>-0.484366</td>\n",
       "    </tr>\n",
       "    <tr>\n",
       "      <th>9727</th>\n",
       "      <td>KR Layout</td>\n",
       "      <td>1 BHK</td>\n",
       "      <td>1050</td>\n",
       "      <td>2.0</td>\n",
       "      <td>41.00</td>\n",
       "      <td>3905</td>\n",
       "      <td>-0.764767</td>\n",
       "    </tr>\n",
       "    <tr>\n",
       "      <th>9526</th>\n",
       "      <td>Whitefield</td>\n",
       "      <td>2 BHK</td>\n",
       "      <td>1216</td>\n",
       "      <td>2.0</td>\n",
       "      <td>73.00</td>\n",
       "      <td>6003</td>\n",
       "      <td>-0.126025</td>\n",
       "    </tr>\n",
       "    <tr>\n",
       "      <th>9494</th>\n",
       "      <td>Thanisandra</td>\n",
       "      <td>1 BHK</td>\n",
       "      <td>662</td>\n",
       "      <td>1.0</td>\n",
       "      <td>38.00</td>\n",
       "      <td>5740</td>\n",
       "      <td>-0.206096</td>\n",
       "    </tr>\n",
       "    <tr>\n",
       "      <th>6340</th>\n",
       "      <td>Rayasandra</td>\n",
       "      <td>3 BHK</td>\n",
       "      <td>1555</td>\n",
       "      <td>3.0</td>\n",
       "      <td>75.17</td>\n",
       "      <td>4834</td>\n",
       "      <td>-0.481930</td>\n",
       "    </tr>\n",
       "    <tr>\n",
       "      <th>6236</th>\n",
       "      <td>Banashankari Stage II</td>\n",
       "      <td>4 Bedroom</td>\n",
       "      <td>1050</td>\n",
       "      <td>3.0</td>\n",
       "      <td>125.00</td>\n",
       "      <td>11905</td>\n",
       "      <td>1.670855</td>\n",
       "    </tr>\n",
       "    <tr>\n",
       "      <th>9459</th>\n",
       "      <td>Laggere</td>\n",
       "      <td>5 Bedroom</td>\n",
       "      <td>1800</td>\n",
       "      <td>5.0</td>\n",
       "      <td>70.00</td>\n",
       "      <td>3889</td>\n",
       "      <td>-0.769638</td>\n",
       "    </tr>\n",
       "    <tr>\n",
       "      <th>12401</th>\n",
       "      <td>Dasappa Layout</td>\n",
       "      <td>7 Bedroom</td>\n",
       "      <td>1500</td>\n",
       "      <td>7.0</td>\n",
       "      <td>130.00</td>\n",
       "      <td>8667</td>\n",
       "      <td>0.685037</td>\n",
       "    </tr>\n",
       "    <tr>\n",
       "      <th>12311</th>\n",
       "      <td>Thanisandra</td>\n",
       "      <td>3 BHK</td>\n",
       "      <td>1430</td>\n",
       "      <td>2.0</td>\n",
       "      <td>56.00</td>\n",
       "      <td>3916</td>\n",
       "      <td>-0.761418</td>\n",
       "    </tr>\n",
       "  </tbody>\n",
       "</table>\n",
       "</div>"
      ],
      "text/plain": [
       "                    location       size total_sqft  bath   price  \\\n",
       "4131         Old Madras Road      2 BHK       1171   2.0   75.00   \n",
       "8653     Sector 1 HSR Layout      3 BHK       1720   3.0   83.00   \n",
       "9727               KR Layout      1 BHK       1050   2.0   41.00   \n",
       "9526              Whitefield      2 BHK       1216   2.0   73.00   \n",
       "9494             Thanisandra      1 BHK        662   1.0   38.00   \n",
       "6340              Rayasandra      3 BHK       1555   3.0   75.17   \n",
       "6236   Banashankari Stage II  4 Bedroom       1050   3.0  125.00   \n",
       "9459                 Laggere  5 Bedroom       1800   5.0   70.00   \n",
       "12401         Dasappa Layout  7 Bedroom       1500   7.0  130.00   \n",
       "12311            Thanisandra      3 BHK       1430   2.0   56.00   \n",
       "\n",
       "       price_per_square_foot    zscore  \n",
       "4131                    6405 -0.003635  \n",
       "8653                    4826 -0.484366  \n",
       "9727                    3905 -0.764767  \n",
       "9526                    6003 -0.126025  \n",
       "9494                    5740 -0.206096  \n",
       "6340                    4834 -0.481930  \n",
       "6236                   11905  1.670855  \n",
       "9459                    3889 -0.769638  \n",
       "12401                   8667  0.685037  \n",
       "12311                   3916 -0.761418  "
      ]
     },
     "execution_count": 38,
     "metadata": {},
     "output_type": "execute_result"
    }
   ],
   "source": [
    "df3.sample(10)"
   ]
  },
  {
   "cell_type": "code",
   "execution_count": 40,
   "id": "1e213a54-c46f-4ea6-8fa9-1eed457fcca2",
   "metadata": {},
   "outputs": [
    {
     "data": {
      "text/plain": [
       "(12623, 7)"
      ]
     },
     "execution_count": 40,
     "metadata": {},
     "output_type": "execute_result"
    }
   ],
   "source": [
    "df4=df3[(df3.zscore>-4)&(df3.zscore<4)]\n",
    "df4.shape"
   ]
  },
  {
   "cell_type": "code",
   "execution_count": 41,
   "id": "74ad8dfd-7252-4ca9-807c-26b9711314b7",
   "metadata": {},
   "outputs": [
    {
     "name": "stdout",
     "output_type": "stream",
     "text": [
      "the number of rows removed as an outlier using Zscore is 70\n"
     ]
    }
   ],
   "source": [
    "outliers_removed= df3.shape[0]-df4.shape[0]\n",
    "print(\"the number of rows removed as an outlier using Zscore is\",outliers_removed)"
   ]
  },
  {
   "cell_type": "code",
   "execution_count": 42,
   "id": "f1c67913-a5f0-4477-86ee-fece2a5c2599",
   "metadata": {},
   "outputs": [
    {
     "data": {
      "text/html": [
       "<div>\n",
       "<style scoped>\n",
       "    .dataframe tbody tr th:only-of-type {\n",
       "        vertical-align: middle;\n",
       "    }\n",
       "\n",
       "    .dataframe tbody tr th {\n",
       "        vertical-align: top;\n",
       "    }\n",
       "\n",
       "    .dataframe thead th {\n",
       "        text-align: right;\n",
       "    }\n",
       "</style>\n",
       "<table border=\"1\" class=\"dataframe\">\n",
       "  <thead>\n",
       "    <tr style=\"text-align: right;\">\n",
       "      <th></th>\n",
       "      <th>location</th>\n",
       "      <th>size</th>\n",
       "      <th>total_sqft</th>\n",
       "      <th>bath</th>\n",
       "      <th>price</th>\n",
       "      <th>price_per_square_foot</th>\n",
       "      <th>zscore</th>\n",
       "    </tr>\n",
       "  </thead>\n",
       "  <tbody>\n",
       "    <tr>\n",
       "      <th>1073</th>\n",
       "      <td>Jalahalli East</td>\n",
       "      <td>3 BHK</td>\n",
       "      <td>1260</td>\n",
       "      <td>2.0</td>\n",
       "      <td>60.0</td>\n",
       "      <td>4762</td>\n",
       "      <td>-0.503851</td>\n",
       "    </tr>\n",
       "    <tr>\n",
       "      <th>11882</th>\n",
       "      <td>Hoodi</td>\n",
       "      <td>3 BHK</td>\n",
       "      <td>2144</td>\n",
       "      <td>3.0</td>\n",
       "      <td>140.0</td>\n",
       "      <td>6530</td>\n",
       "      <td>0.034422</td>\n",
       "    </tr>\n",
       "    <tr>\n",
       "      <th>6769</th>\n",
       "      <td>Electronic City</td>\n",
       "      <td>4 BHK</td>\n",
       "      <td>2093</td>\n",
       "      <td>4.0</td>\n",
       "      <td>104.0</td>\n",
       "      <td>4969</td>\n",
       "      <td>-0.440829</td>\n",
       "    </tr>\n",
       "    <tr>\n",
       "      <th>1562</th>\n",
       "      <td>Hebbal</td>\n",
       "      <td>4 BHK</td>\n",
       "      <td>2483</td>\n",
       "      <td>5.0</td>\n",
       "      <td>215.0</td>\n",
       "      <td>8659</td>\n",
       "      <td>0.682602</td>\n",
       "    </tr>\n",
       "    <tr>\n",
       "      <th>2489</th>\n",
       "      <td>Subramanyapura</td>\n",
       "      <td>2 BHK</td>\n",
       "      <td>1313</td>\n",
       "      <td>2.0</td>\n",
       "      <td>73.0</td>\n",
       "      <td>5560</td>\n",
       "      <td>-0.260897</td>\n",
       "    </tr>\n",
       "    <tr>\n",
       "      <th>12464</th>\n",
       "      <td>Tirumanahalli</td>\n",
       "      <td>2 BHK</td>\n",
       "      <td>1260</td>\n",
       "      <td>2.0</td>\n",
       "      <td>55.0</td>\n",
       "      <td>4365</td>\n",
       "      <td>-0.624718</td>\n",
       "    </tr>\n",
       "    <tr>\n",
       "      <th>1101</th>\n",
       "      <td>Budigere</td>\n",
       "      <td>2 BHK</td>\n",
       "      <td>1162</td>\n",
       "      <td>2.0</td>\n",
       "      <td>57.0</td>\n",
       "      <td>4905</td>\n",
       "      <td>-0.460314</td>\n",
       "    </tr>\n",
       "    <tr>\n",
       "      <th>3937</th>\n",
       "      <td>Yelachenahalli</td>\n",
       "      <td>5 Bedroom</td>\n",
       "      <td>897</td>\n",
       "      <td>2.0</td>\n",
       "      <td>85.0</td>\n",
       "      <td>9476</td>\n",
       "      <td>0.931340</td>\n",
       "    </tr>\n",
       "    <tr>\n",
       "      <th>9707</th>\n",
       "      <td>Yelahanka</td>\n",
       "      <td>2 BHK</td>\n",
       "      <td>1270</td>\n",
       "      <td>2.0</td>\n",
       "      <td>57.0</td>\n",
       "      <td>4488</td>\n",
       "      <td>-0.587271</td>\n",
       "    </tr>\n",
       "    <tr>\n",
       "      <th>6975</th>\n",
       "      <td>EPIP Zone</td>\n",
       "      <td>3 BHK</td>\n",
       "      <td>1709</td>\n",
       "      <td>3.0</td>\n",
       "      <td>80.0</td>\n",
       "      <td>4681</td>\n",
       "      <td>-0.528511</td>\n",
       "    </tr>\n",
       "  </tbody>\n",
       "</table>\n",
       "</div>"
      ],
      "text/plain": [
       "              location       size total_sqft  bath  price  \\\n",
       "1073    Jalahalli East      3 BHK       1260   2.0   60.0   \n",
       "11882            Hoodi      3 BHK       2144   3.0  140.0   \n",
       "6769   Electronic City      4 BHK       2093   4.0  104.0   \n",
       "1562            Hebbal      4 BHK       2483   5.0  215.0   \n",
       "2489    Subramanyapura      2 BHK       1313   2.0   73.0   \n",
       "12464    Tirumanahalli      2 BHK       1260   2.0   55.0   \n",
       "1101          Budigere      2 BHK       1162   2.0   57.0   \n",
       "3937    Yelachenahalli  5 Bedroom        897   2.0   85.0   \n",
       "9707         Yelahanka      2 BHK       1270   2.0   57.0   \n",
       "6975         EPIP Zone      3 BHK       1709   3.0   80.0   \n",
       "\n",
       "       price_per_square_foot    zscore  \n",
       "1073                    4762 -0.503851  \n",
       "11882                   6530  0.034422  \n",
       "6769                    4969 -0.440829  \n",
       "1562                    8659  0.682602  \n",
       "2489                    5560 -0.260897  \n",
       "12464                   4365 -0.624718  \n",
       "1101                    4905 -0.460314  \n",
       "3937                    9476  0.931340  \n",
       "9707                    4488 -0.587271  \n",
       "6975                    4681 -0.528511  "
      ]
     },
     "execution_count": 42,
     "metadata": {},
     "output_type": "execute_result"
    }
   ],
   "source": [
    "df4.sample(10)"
   ]
  },
  {
   "cell_type": "code",
   "execution_count": 50,
   "id": "efcdde06-4ff2-457b-a4b6-95a37ad3661f",
   "metadata": {},
   "outputs": [
    {
     "data": {
      "text/plain": [
       "[<matplotlib.lines.Line2D at 0x141c8681520>]"
      ]
     },
     "execution_count": 50,
     "metadata": {},
     "output_type": "execute_result"
    },
    {
     "data": {
      "image/png": "[encoded data removed]",
      "text/plain": [
       "<Figure size 1200x800 with 1 Axes>"
      ]
     },
     "metadata": {},
     "output_type": "display_data"
    }
   ],
   "source": [
    "\n",
    "\n",
    "plt.hist(df4.price_per_square_foot, bins=20, rwidth=0.8, density=True)\n",
    "plt.xlabel('Price_per_square_foot')\n",
    "plt.ylabel('Count')\n",
    "\n",
    "rng = np.arange(-5000, df4.price_per_square_foot.max(), 100)\n",
    "plt.plot(rng, norm.pdf(rng,df4.price_per_square_foot.mean(),df4.price_per_square_foot.std()))\n"
   ]
  },
  {
   "cell_type": "code",
   "execution_count": null,
   "id": "9bc59156-ff7a-4100-9493-0b3309806f6a",
   "metadata": {},
   "outputs": [],
   "source": []
  },
  {
   "cell_type": "code",
   "execution_count": null,
   "id": "165b9927-7b63-4a5b-bb62-6e2e674b9cdd",
   "metadata": {},
   "outputs": [],
   "source": []
  },
  {
   "cell_type": "code",
   "execution_count": null,
   "id": "fbcd05a6-dae2-4472-a008-c82bc1f13d8b",
   "metadata": {},
   "outputs": [],
   "source": []
  },
  {
   "cell_type": "code",
   "execution_count": null,
   "id": "a0c7d47f-9f1b-4f98-8316-ed0256a0e3a1",
   "metadata": {},
   "outputs": [],
   "source": []
  },
  {
   "cell_type": "code",
   "execution_count": null,
   "id": "9bea5d0e-0128-4c3f-a4f5-32dbc0129b56",
   "metadata": {},
   "outputs": [],
   "source": []
  }
 ],
 "metadata": {
  "kernelspec": {
   "display_name": "Python 3 (ipykernel)",
   "language": "python",
   "name": "python3"
  },
  "language_info": {
   "codemirror_mode": {
    "name": "ipython",
    "version": 3
   },
   "file_extension": ".py",
   "mimetype": "text/x-python",
   "name": "python",
   "nbconvert_exporter": "python",
   "pygments_lexer": "ipython3",
   "version": "3.9.13"
  }
 },
 "nbformat": 4,
 "nbformat_minor": 5
}
